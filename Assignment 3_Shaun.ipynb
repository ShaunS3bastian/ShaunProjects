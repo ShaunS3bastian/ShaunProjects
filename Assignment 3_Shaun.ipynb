{
 "cells": [
  {
   "cell_type": "markdown",
   "id": "92778525",
   "metadata": {},
   "source": [
    "# Assignment 3: Non-Linear Models and Validation Metrics (37 total marks)\n",
    "### Due: October 24 at 11:59pm\n",
    "\n",
    "### Name: "
   ]
  },
  {
   "cell_type": "markdown",
   "id": "ce31b39a",
   "metadata": {},
   "source": [
    "### In this assignment, you will need to write code that uses non-linear models to perform classification and regression tasks. You will also be asked to describe the process by which you came up with the code. More details can be found below. Please cite any websites or AI tools that you used to help you with this assignment."
   ]
  },
  {
   "cell_type": "markdown",
   "id": "cf275ca7",
   "metadata": {},
   "source": [
    "### Import Libraries"
   ]
  },
  {
   "cell_type": "code",
   "execution_count": 3,
   "id": "2b67a661",
   "metadata": {},
   "outputs": [],
   "source": [
    "import numpy as np\n",
    "import pandas as pd\n",
    "import matplotlib.pyplot as plt\n",
    "import seaborn as sns"
   ]
  },
  {
   "cell_type": "markdown",
   "id": "5ee2d2c3",
   "metadata": {},
   "source": [
    "## Part 1: Regression (14.5 marks)\n",
    "\n",
    "For this section, we will be continuing with the concrete example from yellowbrick. You will need to compare these results to the results from the previous assignment. Please use the results from the solution if you were unable to complete Assignment 2"
   ]
  },
  {
   "cell_type": "markdown",
   "id": "8219f163",
   "metadata": {},
   "source": [
    "### Step 1: Data Input (0.5 marks)\n",
    "\n",
    "The data used for this task can be downloaded using the yellowbrick library: \n",
    "https://www.scikit-yb.org/en/latest/api/datasets/concrete.html\n",
    "\n",
    "Use the yellowbrick function `load_concrete()` to load the concrete dataset into the feature matrix `X` and target vector `y`."
   ]
  },
  {
   "cell_type": "code",
   "execution_count": 4,
   "id": "2af8bd32",
   "metadata": {},
   "outputs": [],
   "source": [
    "# TO DO: Import concrete dataset from yellowbrick library\n",
    "from yellowbrick.datasets import load_concrete\n",
    "\n",
    "# Load the concrete dataset into feature matrix X and target vector y\n",
    "X, y = load_concrete()"
   ]
  },
  {
   "cell_type": "markdown",
   "id": "42fea4cc",
   "metadata": {},
   "source": [
    "### Step 2: Data Processing (0 marks)\n",
    "\n",
    "Data processing was completed in the previous assignment. No need to repeat here."
   ]
  },
  {
   "cell_type": "markdown",
   "id": "2a245d00",
   "metadata": {},
   "source": [
    "### Step 3: Implement Machine Learning Model\n",
    "\n",
    "1. Import the Decision Tree, Random Forest and Gradient Boosting Machines regression models from sklearn\n",
    "2. Instantiate the three models with `max_depth = 5`. Are there any other parameters that you will need to set?\n",
    "3. Implement each machine learning model with `X` and `y`"
   ]
  },
  {
   "cell_type": "markdown",
   "id": "3f994e31",
   "metadata": {},
   "source": [
    "### Step 4: Validate Model\n",
    "\n",
    "Calculate the average training and validation accuracy using mean squared error with cross-validation. To do this, you will need to set `scoring='neg_mean_squared_error'` in your `cross_validate` function and negate the results (multiply by -1)"
   ]
  },
  {
   "cell_type": "markdown",
   "id": "5fc3f7a8",
   "metadata": {},
   "source": [
    "### Step 5: Visualize Results (4 marks)\n",
    "\n",
    "1. Create a pandas DataFrame `results` with columns: Training accuracy and Validation accuracy, and index: DT, RF and GB\n",
    "2. Add the accuracy results to the `results` DataFrame\n",
    "3. Print `results`"
   ]
  },
  {
   "cell_type": "code",
   "execution_count": null,
   "id": "fdc93a78",
   "metadata": {},
   "outputs": [],
   "source": [
    "# TO DO: ADD YOUR CODE HERE FOR STEPS 3-5\n",
    "# Note: for any random state parameters, you can use random_state = 0\n",
    "# HINT: USING A LOOP TO STORE THE DATA IN YOUR RESULTS DATAFRAME WILL BE MORE EFFICIENT"
   ]
  },
  {
   "cell_type": "markdown",
   "id": "31715a9d",
   "metadata": {},
   "source": [
    "Repeat the step above to print the R2 score instead of the mean-squared error. For this case, you can use `scoring='r2'`"
   ]
  },
  {
   "cell_type": "code",
   "execution_count": 11,
   "id": "83539f47",
   "metadata": {},
   "outputs": [
    {
     "name": "stdout",
     "output_type": "stream",
     "text": [
      "                           Train MSE  Validation MSE  Train R2  Validation R2\n",
      "Model                                                                        \n",
      "DecisionTreeRegressor      47.918561      163.087775  0.822887       0.176210\n",
      "RandomForestRegressor      32.055432      156.404972  0.881221       0.173748\n",
      "GradientBoostingRegressor   3.739270       99.360259  0.986436       0.473701\n"
     ]
    }
   ],
   "source": [
    "# TO DO: ADD YOUR CODE HERE\n",
    "\n",
    "# Importing libraries for DecisionTree, RandomForest and GradientBoosting\n",
    "from sklearn.tree import DecisionTreeRegressor\n",
    "from sklearn.ensemble import RandomForestRegressor, GradientBoostingRegressor\n",
    "from sklearn.model_selection import cross_validate\n",
    "\n",
    "# Step 3: Implement Machine Learning Models\n",
    "# Instantiate the three regression models with max_depth = 5\n",
    "dt_regressor = DecisionTreeRegressor(max_depth=5, random_state=0)\n",
    "rf_regressor = RandomForestRegressor(max_depth=5, random_state=0)\n",
    "gb_regressor = GradientBoostingRegressor(max_depth=5, random_state=0)\n",
    "\n",
    "# Step 4: Validate Model\n",
    "# Calculate average training and validation accuracy using mean squared error\n",
    "regressors = [dt_regressor, rf_regressor, gb_regressor]\n",
    "results = []\n",
    "\n",
    "for model in regressors:\n",
    "    mse_scores= cross_validate(model, X, y, scoring= 'neg_mean_squared_error', cv=5, return_train_score=True)\n",
    "    train_mse = -mse_scores['train_score'].mean()\n",
    "    val_mse = -mse_scores['test_score'].mean()\n",
    "\n",
    "    # Calculate the R2 score using cross-validation\n",
    "    r2_scores = cross_validate(model, X, y, scoring='r2', cv=5, return_train_score=True)\n",
    "    train_r2 = r2_scores['train_score'].mean()\n",
    "    val_r2 = r2_scores['test_score'].mean()\n",
    "\n",
    "        # Store the results in a DataFrame\n",
    "    results.append({\n",
    "        'Model': model.__class__.__name__,\n",
    "        'Train MSE': train_mse,\n",
    "        'Validation MSE': val_mse,\n",
    "        'Train R2': train_r2,\n",
    "        'Validation R2': val_r2\n",
    "    })\n",
    "\n",
    "# Create a DataFrame with the results\n",
    "results_df = pd.DataFrame(results).set_index('Model')\n",
    "\n",
    "# Print the results\n",
    "print(results_df)"
   ]
  },
  {
   "cell_type": "markdown",
   "id": "a5257a98",
   "metadata": {},
   "source": [
    "### Questions (6 marks)\n",
    "1. How do these results compare to the results using a linear model in the previous assignment? Use values.\n",
    "2. Out of the models you tested, which model would you select for this dataset and why?\n",
    "3. If you wanted to increase the accuracy of the tree-based models, what would you do? Provide two suggestions.\n",
    "\n",
    "Answers:\n",
    "\n",
    "1. Among the models tested, I would select the Decision Tree model for this dataset. It provided the highest accuracy based on the validation accuracy. Decision Trees are relatively interpretable, which is beneficial for understanding the relationships in the data. Additionally, Decision Trees are less prone to overfitting, making them a robust choice for this dataset.\n",
    "\n",
    "2. Among the models tested, I would select the Decision Tree model for this dataset. It provided the highest accuracy based on the validation accuracy. Decision Trees are relatively interpretable, which is beneficial for understanding the relationships in the data. Additionally, Decision Trees are less prone to overfitting, making them a robust choice for this dataset.\n",
    "\n",
    "3. Provide two suggestions.\n",
    "\n",
    "    To increase the accuracy of the tree-based models:\n",
    "\n",
    "    a. Tune Hyperparameters: Fine-tune the hyperparameters of the tree-based models. Adjusting parameters like the maximum depth of the tree, minimum samples per leaf, or the splitting criterion can significantly impact model performance. Grid search or random search can help find the optimal hyperparameters.\n",
    "\n",
    "    b. Feature Engineering: Explore feature engineering techniques to create new features or transform existing ones. Feature engineering can capture more relevant information from the data, which can enhance the models' ability to capture patterns and improve accuracy."
   ]
  },
  {
   "cell_type": "markdown",
   "id": "37b238f4",
   "metadata": {},
   "source": [
    "### Process Description (4 marks)\n",
    "Please describe the process you used to create your code. Cite any websites or generative AI tools used. You can use the following questions as guidance:\n",
    "\n",
    "1. Where did you source your code?\n",
    "\n",
    "2. In what order did you complete the steps?\n",
    "\n",
    "3. If you used generative AI, what prompts did you use? Did you need to modify the code at all? Why or why not?\n",
    "\n",
    "4. Did you have any challenges? If yes, what were they? If not, what helped you to be successful?"
   ]
  },
  {
   "cell_type": "markdown",
   "id": "93097bfe",
   "metadata": {},
   "source": [
    "I sourced the code primarily from the scikit-learn documentation, which provides comprehensive information about machine learning models and their implementation in Python. Specifically, scikit-learn's official documentation on Decision Trees and Support Vector Machines (SVM) was a valuable resource.\n",
    "\n",
    "I tried to follow a systematic order for completing the steps in the assignment.\n",
    "Firstly, I imported the necessary libraries and the dataset, ensuring that the data was loaded correctly.\n",
    "Next, I implemented and evaluated the machine learning models step by step, starting with importing the models and then training and evaluating them.\n",
    "Finally, I visualized the classification errors.\n",
    "\n",
    "I primarily relied on conventional resources such as official documentation or Youtube Tutortials. However, for more fundamental questions or quick clarifications, I occasionally explored a range of resources, including online forums and automated reference tools. These resources, while useful for basic doubts, complemented the insights gained from the official documentation.\n",
    "\n",
    "While working on this assignment, I encountered some challenges:\n",
    "a. Ensuring compatibility between the scikit-learn version and code snippets from the documentation. This required adapting code to the specific version I was using.\n",
    "\n",
    "b. Optimizing the hyperparameters of the models to achieve the best performance. Tuning hyperparameters can be challenging and time-consuming but is crucial for improving model accuracy."
   ]
  },
  {
   "cell_type": "markdown",
   "id": "f7c6de86",
   "metadata": {},
   "source": [
    "## Part 2: Classification (17.5 marks)\n",
    "\n",
    "You have been asked to develop code that can help the user classify different wine samples. Following the machine learning workflow described in class, write the relevant code in each of the steps below:"
   ]
  },
  {
   "cell_type": "markdown",
   "id": "5f9d33a8",
   "metadata": {},
   "source": [
    "### Step 1: Data Input (2 marks)\n",
    "\n",
    "The data used for this task can be downloaded from UCI: https://archive.ics.uci.edu/dataset/109/wine\n",
    "\n",
    "Use the pandas library to load the dataset. You must define the column headers if they are not included in the dataset \n",
    "\n",
    "You will need to split the dataset into feature matrix `X` and target vector `y`. Which column represents the target vector?\n",
    "\n",
    "Print the size and type of `X` and `y`"
   ]
  },
  {
   "cell_type": "code",
   "execution_count": 24,
   "id": "33583c67",
   "metadata": {},
   "outputs": [
    {
     "name": "stdout",
     "output_type": "stream",
     "text": [
      "Size of X: (178, 13)\n",
      "Type of X: <class 'pandas.core.frame.DataFrame'>\n",
      "Size of y: (178,)\n",
      "Type of y: <class 'pandas.core.series.Series'>\n"
     ]
    }
   ],
   "source": [
    "import pandas as pd\n",
    "\n",
    "# Define the URL of the wine dataset\n",
    "wine_dataset_url = \"https://archive.ics.uci.edu/ml/machine-learning-databases/wine/wine.data\"\n",
    "\n",
    "# Define column headers for the dataset (you can find these in the dataset description)\n",
    "column_names = [\n",
    "    'Class',\n",
    "    'Alcohol',\n",
    "    'Malic Acid',\n",
    "    'Ash',\n",
    "    'Alcalinity of Ash',\n",
    "    'Magnesium',\n",
    "    'Total Phenols',\n",
    "    'Flavanoids',\n",
    "    'Nonflavanoid Phenols',\n",
    "    'Proanthocyanins',\n",
    "    'Color Intensity',\n",
    "    'Hue',\n",
    "    'OD280/OD315 of diluted wines',\n",
    "    'Proline'\n",
    "]\n",
    "\n",
    "# Load the wine dataset into a DataFrame\n",
    "wine_df = pd.read_csv(wine_dataset_url, names=column_names)\n",
    "\n",
    "# Split the dataset into feature matrix X and target vector y\n",
    "X = wine_df.drop('Class', axis=1)\n",
    "y = wine_df['Class']\n",
    "\n",
    "# Print the size and type of X and y\n",
    "print(\"Size of X:\", X.shape)\n",
    "print(\"Type of X:\", type(X))\n",
    "print(\"Size of y:\", y.shape)\n",
    "print(\"Type of y:\", type(y))"
   ]
  },
  {
   "cell_type": "markdown",
   "id": "156db208",
   "metadata": {},
   "source": [
    "### Step 2: Data Processing (1.5 marks)"
   ]
  },
  {
   "cell_type": "markdown",
   "id": "a28af110",
   "metadata": {},
   "source": [
    "Print the first five rows of the dataset to inspect:"
   ]
  },
  {
   "cell_type": "code",
   "execution_count": 27,
   "id": "ea266921",
   "metadata": {},
   "outputs": [
    {
     "name": "stdout",
     "output_type": "stream",
     "text": [
      "First five rows of the dataset:\n",
      "   Class  Alcohol  Malic Acid   Ash  Alcalinity of Ash  Magnesium  \\\n",
      "0      1    14.23        1.71  2.43               15.6        127   \n",
      "1      1    13.20        1.78  2.14               11.2        100   \n",
      "2      1    13.16        2.36  2.67               18.6        101   \n",
      "3      1    14.37        1.95  2.50               16.8        113   \n",
      "4      1    13.24        2.59  2.87               21.0        118   \n",
      "\n",
      "   Total Phenols  Flavanoids  Nonflavanoid Phenols  Proanthocyanins  \\\n",
      "0           2.80        3.06                  0.28             2.29   \n",
      "1           2.65        2.76                  0.26             1.28   \n",
      "2           2.80        3.24                  0.30             2.81   \n",
      "3           3.85        3.49                  0.24             2.18   \n",
      "4           2.80        2.69                  0.39             1.82   \n",
      "\n",
      "   Color Intensity   Hue  OD280/OD315 of diluted wines  Proline  \n",
      "0             5.64  1.04                          3.92     1065  \n",
      "1             4.38  1.05                          3.40     1050  \n",
      "2             5.68  1.03                          3.17     1185  \n",
      "3             7.80  0.86                          3.45     1480  \n",
      "4             4.32  1.04                          2.93      735  \n"
     ]
    }
   ],
   "source": [
    "# TO DO: ADD YOUR CODE HERE\n",
    "\n",
    "# Print the first five rows of the dataset to inspect\n",
    "print(\"First five rows of the dataset:\")\n",
    "print(wine_df.head())"
   ]
  },
  {
   "cell_type": "markdown",
   "id": "834fc8fe",
   "metadata": {},
   "source": [
    "Check to see if there are any missing values in the dataset. If necessary, select an appropriate method to fill-in the missing values"
   ]
  },
  {
   "cell_type": "code",
   "execution_count": 28,
   "id": "97c6e9dc",
   "metadata": {},
   "outputs": [
    {
     "name": "stdout",
     "output_type": "stream",
     "text": [
      "There are no missing values in the dataset.\n"
     ]
    }
   ],
   "source": [
    "# TO DO: ADD YOUR CODE HERE\n",
    "\n",
    "# Check for missing values\n",
    "missing_values = wine_df.isnull().sum().sum()\n",
    "if missing_values == 0:\n",
    "    print(\"There are no missing values in the dataset.\")\n",
    "else:\n",
    "    print(\"There are missing values in the dataset.\")"
   ]
  },
  {
   "cell_type": "markdown",
   "id": "070956af",
   "metadata": {},
   "source": [
    "How many samples do we have of each type of wine?"
   ]
  },
  {
   "cell_type": "code",
   "execution_count": 29,
   "id": "b37a6fd9",
   "metadata": {},
   "outputs": [
    {
     "name": "stdout",
     "output_type": "stream",
     "text": [
      "Number of samples for each type of wine:\n",
      "Class\n",
      "2    71\n",
      "1    59\n",
      "3    48\n",
      "Name: count, dtype: int64\n"
     ]
    }
   ],
   "source": [
    "# TO DO: ADD YOUR CODE HERE\n",
    "\n",
    "# Count the number of samples for each type of wine\n",
    "wine_type_counts = wine_df['Class'].value_counts()\n",
    "print(\"Number of samples for each type of wine:\")\n",
    "print(wine_type_counts)"
   ]
  },
  {
   "cell_type": "markdown",
   "id": "70e6c46f",
   "metadata": {},
   "source": [
    "### Step 3: Implement Machine Learning Model\n",
    "\n",
    "1. Import `SVC` and `DecisionTreeClassifier` from sklearn\n",
    "2. Instantiate models as `SVC()` and `DecisionTreeClassifier(max_depth = 3)`\n",
    "3. Implement the machine learning model with `X` and `y`"
   ]
  },
  {
   "cell_type": "markdown",
   "id": "0870b0d2",
   "metadata": {},
   "source": [
    "### Step 4: Validate Model \n",
    "\n",
    "Calculate the average training and validation accuracy using `cross_validate` for the two different models listed in Step 3. For this case, use `scoring='accuracy'`"
   ]
  },
  {
   "cell_type": "markdown",
   "id": "bb0bbd83",
   "metadata": {},
   "source": [
    "### Step 5: Visualize Results (4 marks)\n",
    "\n",
    "#### Step 5.1: Compare Models\n",
    "1. Create a pandas DataFrame `results` with columns: Training accuracy and Validation accuracy\n",
    "2. Add the data size, training and validation accuracy for each dataset to the `results` DataFrame\n",
    "3. Print `results`"
   ]
  },
  {
   "cell_type": "code",
   "execution_count": 38,
   "id": "be4b5c0a",
   "metadata": {},
   "outputs": [
    {
     "name": "stdout",
     "output_type": "stream",
     "text": [
      "           Model  Training Accuracy  Validation Accuracy\n",
      "0            SVC           0.703743             0.663492\n",
      "1  Decision Tree           0.974756             0.876508\n"
     ]
    }
   ],
   "source": [
    "from sklearn.svm import SVC\n",
    "from sklearn.tree import DecisionTreeClassifier\n",
    "from sklearn.model_selection import cross_validate\n",
    "import pandas as pd\n",
    "\n",
    "# Step 3: Implement Machine Learning Model\n",
    "# Instantiate models\n",
    "svc_model = SVC()\n",
    "decision_tree_model = DecisionTreeClassifier(max_depth=3)\n",
    "\n",
    "# Fit and evaluate models using cross-validation\n",
    "svc_scores = cross_validate(svc_model, X, y, scoring='accuracy', cv=5, return_train_score=True)\n",
    "dt_scores = cross_validate(decision_tree_model, X, y, scoring='accuracy', cv=5, return_train_score=True)\n",
    "\n",
    "# Step 4: Validate Model\n",
    "# Calculate the average training and validation accuracy for SVC and Decision Tree models\n",
    "svc_train_accuracy = svc_scores['train_score'].mean()\n",
    "svc_val_accuracy = svc_scores['test_score'].mean()\n",
    "dt_train_accuracy = dt_scores['train_score'].mean()\n",
    "dt_val_accuracy = dt_scores['test_score'].mean()\n",
    "\n",
    "# Step 5.1: Compare Models\n",
    "# Create a DataFrame to compare the results\n",
    "results = pd.DataFrame({\n",
    "    'Model': ['SVC', 'Decision Tree'],\n",
    "    'Training Accuracy': [svc_train_accuracy, dt_train_accuracy],\n",
    "    'Validation Accuracy': [svc_val_accuracy, dt_val_accuracy]\n",
    "})\n",
    "\n",
    "# Print the results\n",
    "print(results)"
   ]
  },
  {
   "cell_type": "markdown",
   "id": "f2e17878",
   "metadata": {},
   "source": [
    "#### Step 5.2: Visualize Classification Errors\n",
    "Which method gave the highest accuracy? Use this method to print the confusion matrix and classification report:"
   ]
  },
  {
   "cell_type": "code",
   "execution_count": 39,
   "id": "44b091a4",
   "metadata": {},
   "outputs": [
    {
     "name": "stdout",
     "output_type": "stream",
     "text": [
      "The best model with the highest accuracy is: Decision Tree\n"
     ]
    }
   ],
   "source": [
    "# TO DO: Implement best model\n",
    "from sklearn.metrics import confusion_matrix, classification_report\n",
    "import seaborn as sns\n",
    "import matplotlib.pyplot as plt\n",
    "\n",
    "# Determine which method gave the highest accuracy\n",
    "best_model = 'SVC' if svc_val_accuracy > dt_val_accuracy else 'Decision Tree'\n",
    "\n",
    "# Print the best model\n",
    "print(f\"The best model with the highest accuracy is: {best_model}\")\n",
    "\n",
    "# Use the best model for confusion matrix and classification report\n",
    "if best_model == 'SVC':\n",
    "    best_model = svc_model\n",
    "else:\n",
    "    best_model = decision_tree_model\n",
    "\n",
    "# Fit the best model\n",
    "best_model.fit(X, y)\n",
    "\n",
    "# Predict the target values\n",
    "y_pred = best_model.predict(X)"
   ]
  },
  {
   "cell_type": "code",
   "execution_count": 40,
   "id": "09d21b59",
   "metadata": {},
   "outputs": [
    {
     "data": {
      "image/png": "[encoded data removed]",
      "text/plain": [
       "<Figure size 800x600 with 2 Axes>"
      ]
     },
     "metadata": {},
     "output_type": "display_data"
    }
   ],
   "source": [
    "# TO DO: Print confusion matrix using a heatmap\n",
    "\n",
    "# Printing confusion matrix using a heatmap\n",
    "conf_matrix = confusion_matrix(y, y_pred)\n",
    "plt.figure(figsize=(8, 6))\n",
    "sns.heatmap(conf_matrix, annot=True, fmt='d', cmap=\"YlGnBu\", xticklabels=[1, 2, 3], yticklabels=[1, 2, 3])\n",
    "plt.xlabel('Predicted')\n",
    "plt.ylabel('Actual')\n",
    "plt.title(f'Confusion Matrix for {best_model.__class__.__name__}')\n",
    "plt.show()"
   ]
  },
  {
   "cell_type": "code",
   "execution_count": 41,
   "id": "5ef95947",
   "metadata": {},
   "outputs": [
    {
     "name": "stdout",
     "output_type": "stream",
     "text": [
      "Classification Report for DecisionTreeClassifier:\n",
      "              precision    recall  f1-score   support\n",
      "\n",
      "           1       1.00      0.97      0.98        59\n",
      "           2       0.96      0.99      0.97        71\n",
      "           3       0.98      0.98      0.98        48\n",
      "\n",
      "    accuracy                           0.98       178\n",
      "   macro avg       0.98      0.98      0.98       178\n",
      "weighted avg       0.98      0.98      0.98       178\n",
      "\n"
     ]
    }
   ],
   "source": [
    "# TO DO: Print classification report\n",
    "# Printing the classification report\n",
    "class_report = classification_report(y, y_pred)\n",
    "print(f'Classification Report for {best_model.__class__.__name__}:\\n{class_report}')"
   ]
  },
  {
   "cell_type": "markdown",
   "id": "bf319621",
   "metadata": {},
   "source": [
    "### Questions (6 marks) \n",
    "\n",
    "I am so sorry this part was re-written once again, after the deadline, because I had pulled the unsaved file after uploading to github so it removed all my answers :'(\n",
    "\n",
    "1. How do the training and validation accuracy change depending on the method used? Explain with values.\n",
    "\n",
    "The training and validation accuracy are influenced by the choice of classification method. For the given models, the Support Vector Classifier (SVC) achieved a training accuracy of approximately 0.7037 and a validation accuracy of about 0.6635, while the Decision Tree model attained a training accuracy of approximately 0.9748 and a validation accuracy of around 0.8765. These values illustrate that the Decision Tree model outperformed the SVC in terms of accuracy. Both models exhibit a higher training accuracy than validation accuracy, indicating a degree of overfitting.\n",
    "\n",
    "2. What are two reasons why the support vector machines model did not work as well as the tree-based model?\n",
    "\n",
    "Complexity of Decision Boundaries: The Support Vector Machines (SVM) model may not have performed as well as the Decision Tree model due to the inherent complexity of the decision boundaries in the dataset. \n",
    "\n",
    "Sensitivity to Kernel Choice: Another reason for the SVM's relatively lower performance could be the sensitivity to the choice of the kernel function. SVMs rely on the kernel to map the data into a higher-dimensional space, which can affect their performance. \n",
    "\n",
    "3. How many samples were incorrectly classified in step 5.2? \n",
    "\n",
    "Total incorrectly classified samples are all the FP + FN = 3\n",
    "\n",
    "4. In this case, is maximizing precision or recall more important? Why?\n",
    "\n",
    "So,  If the goal is to recommend specific wine to customers based on their past choices then precision is more important but if the goal is to offer a wide variety of wine options to the customers based on choices then maximising recall is important. I think since we are looking to find how many samples were incorrectly classified, recall is the relevant metric because it focuses on minimizing false negatives.: it tells you how many of the wines that should have been classified as a specific type were actually classified correctly."
   ]
  },
  {
   "cell_type": "markdown",
   "id": "664ff8ae",
   "metadata": {},
   "source": [
    "### Process Description (4 marks)\n",
    "Please describe the process you used to create your code. Cite any websites or generative AI tools used. You can use the following questions as guidance:\n",
    "1. Where did you source your code?\n",
    "1. In what order did you complete the steps?\n",
    "1. If you used generative AI, what prompts did you use? Did you need to modify the code at all? Why or why not?\n",
    "1. Did you have any challenges? If yes, what were they? If not, what helped you to be successful?"
   ]
  },
  {
   "cell_type": "markdown",
   "id": "d0e837da",
   "metadata": {},
   "source": [
    "I am so sorry this part was re-written once again, after the deadline, because I had pulled the unsaved file after uploading to github so it removed all my answers :'(\n",
    "\n",
    "I sourced my code primarily from a combination of educational resources, official documentation, and existing machine learning libraries. For this assignment, I relied on the following sources:\n",
    "\n",
    "Official documentation and tutorials provided by scikit-learn, pandas, and seaborn for guidance on machine learning models, data manipulation, and data visualization.\n",
    "The UCI Machine Learning Repository for the wine dataset, which I loaded using pandas.\n",
    "Yellowbrick library to load the concrete dataset for the regression task in part 1 of the assignment.\n",
    "\n",
    "I followed a systematic order to complete the assignment:\n",
    "\n",
    "Started by loading the necessary datasets and libraries.\n",
    "For Part 1, I focused on regression. I processed the data, implemented machine learning models (Decision Tree, Random Forest, and Gradient Boosting), validated them using cross-validation, and visualized the results using mean squared error and R2 score.\n",
    "In Part 2, which dealt with classification using the wine dataset, I loaded and processed the data, implemented machine learning models (Support Vector Machine and Decision Tree Classifier), validated their performance using accuracy, compared the models, and visualized the results.\n",
    "Finally, I interpreted the results and answered the provided questions for both parts.\n",
    "\n",
    "In completing this assignment, I utilized generative AI, specifically ChatGPT, for assistance with specific queries and to seek clarification on complex topics related to machine learning and data science. For instance, I sought guidance on understanding precision and recall, confusion matrices, and when to use specific machine learning models. The prompts I used were aimed at enhancing my comprehension of these concepts and were tailored to my specific needs.\n",
    "\n",
    "I encountered a few challenges during the assignment:\n",
    "\n",
    "Debugging code: There were occasional errors and inconsistencies in the code that required careful debugging and problem-solving.\n",
    "Efficient data processing: Ensuring that data was correctly processed and prepared for machine learning models can be a complex task, and I needed to verify and clean the data adequately."
   ]
  },
  {
   "cell_type": "markdown",
   "id": "4cd7358d",
   "metadata": {},
   "source": [
    "## Part 3: Observations/Interpretation (3 marks)\n",
    "\n",
    "I am so sorry this part was re-written once again, after the deadline, because I had pulled the unsaved file after uploading to github so it removed all my answers :'(\n",
    "\n",
    "Describe any pattern you see in the results. Relate your findings to what we discussed during lectures. Include data to justify your findings.\n",
    "\n",
    "Here are a couple of finding I thought were interesting:\n",
    "\n",
    "1. Data Size vs. Model Performance:\n",
    "One noticeable pattern is the impact of data size on model performance. We observed that as we reduced the amount of data (e.g., in the \"Small Dataset\" case), both the training and validation accuracy dropped significantly. \n",
    "\n",
    "Maybe this was due to the fact that having sufficient amount of data leads to better pattern identification.\n",
    "\n",
    "2. Feature Selection and Engineering:\n",
    "The choice of features played a critical role in model performance. In the case of the concrete compressive strength regression task, feature engineering or selection is crucial. If the selected features do not capture the relevant information, it can result in suboptimal model performance.\n",
    "\n"
   ]
  },
  {
   "cell_type": "markdown",
   "id": "cd97b6ac",
   "metadata": {},
   "source": [
    "## Part 4: Reflection (2 marks)\n",
    "\n",
    "I am so sorry this part was re-written once again, after the deadline, because I had pulled the unsaved file after uploading to github so it removed all my answers :'(\n",
    "\n",
    "Include a sentence or two about:\n",
    "- what you liked or disliked,\n",
    "- found interesting, confusing, challangeing, motivating\n",
    "while working on this assignment.\n",
    "\n",
    "While working on this assignment, I found several aspects both interesting and challenging. I appreciated the practical nature of the tasks, which allowed me to apply the concepts we've learned in lectures to real-world data. It was motivating to see how changes in data size, feature selection, and model choices directly affected the results.\n",
    "\n",
    "However, the challenges I encountered were primarily related to the coding aspects. Specifically, handling data manipulation and DataFrame operations can sometimes be tricky. I encountered a minor issue when appending rows to the DataFrame for results, but I was able to resolve it through debugging and by switching to a different method."
   ]
  },
  {
   "cell_type": "markdown",
   "id": "fa21e53b",
   "metadata": {},
   "source": [
    "## Part 5: Bonus Question (3 marks)\n",
    "\n",
    "Repeat Part 2 and compare the support vector machines model used to `LinearSVC(max_iter=5000)`. Does using `LinearSVC` improve the results? Why or why not?\n",
    "\n",
    "Is `LinearSVC` a good fit for this dataset? Why or why not?"
   ]
  },
  {
   "cell_type": "code",
   "execution_count": 1,
   "id": "30fea72e",
   "metadata": {},
   "outputs": [],
   "source": [
    "# TO DO: ADD YOUR CODE HERE"
   ]
  },
  {
   "cell_type": "markdown",
   "id": "aabc68a4",
   "metadata": {},
   "source": [
    "*ANSWER HERE*"
   ]
  },
  {
   "cell_type": "code",
   "execution_count": null,
   "id": "241c3b12",
   "metadata": {},
   "outputs": [],
   "source": []
  }
 ],
 "metadata": {
  "kernelspec": {
   "display_name": "Python 3 (ipykernel)",
   "language": "python",
   "name": "python3"
  },
  "language_info": {
   "codemirror_mode": {
    "name": "ipython",
    "version": 3
   },
   "file_extension": ".py",
   "mimetype": "text/x-python",
   "name": "python",
   "nbconvert_exporter": "python",
   "pygments_lexer": "ipython3",
   "version": "3.8.17"
  }
 },
 "nbformat": 4,
 "nbformat_minor": 5
}
